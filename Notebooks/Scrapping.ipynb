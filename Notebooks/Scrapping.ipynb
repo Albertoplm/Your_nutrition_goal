{
 "cells": [
  {
   "cell_type": "markdown",
   "metadata": {},
   "source": [
    "# Selenium"
   ]
  },
  {
   "cell_type": "markdown",
   "metadata": {
    "toc": true
   },
   "source": [
    "<h1>Table of Contents<span class=\"tocSkip\"></span></h1>\n",
    "<div class=\"toc\"><ul class=\"toc-item\"><li><span><a href=\"#Webdriver\" data-toc-modified-id=\"Webdriver-1\"><span class=\"toc-item-num\">1&nbsp;&nbsp;</span>Webdriver</a></span></li><li><span><a href=\"#The-use-case\" data-toc-modified-id=\"The-use-case-2\"><span class=\"toc-item-num\">2&nbsp;&nbsp;</span>The use case</a></span><ul class=\"toc-item\"><li><span><a href=\"#Access-application-form\" data-toc-modified-id=\"Access-application-form-2.1\"><span class=\"toc-item-num\">2.1&nbsp;&nbsp;</span>Access application form</a></span></li><li><span><a href=\"#Fill-in-the-fields\" data-toc-modified-id=\"Fill-in-the-fields-2.2\"><span class=\"toc-item-num\">2.2&nbsp;&nbsp;</span>Fill in the fields</a></span></li><li><span><a href=\"#Solve-captcha\" data-toc-modified-id=\"Solve-captcha-2.3\"><span class=\"toc-item-num\">2.3&nbsp;&nbsp;</span>Solve captcha</a></span></li><li><span><a href=\"#Choose-option\" data-toc-modified-id=\"Choose-option-2.4\"><span class=\"toc-item-num\">2.4&nbsp;&nbsp;</span>Choose option</a></span></li></ul></li><li><span><a href=\"#Modularization-is-key!\" data-toc-modified-id=\"Modularization-is-key!-3\"><span class=\"toc-item-num\">3&nbsp;&nbsp;</span>Modularization is key!</a></span></li><li><span><a href=\"#HAPPY-CRAWLING!!\" data-toc-modified-id=\"HAPPY-CRAWLING!!-4\"><span class=\"toc-item-num\">4&nbsp;&nbsp;</span>HAPPY CRAWLING!!</a></span></li></ul></div>"
   ]
  },
  {
   "cell_type": "markdown",
   "metadata": {},
   "source": [
    "`selenium` is a Python library that lets me surf the Internet automatically"
   ]
  },
  {
   "cell_type": "code",
   "execution_count": 1,
   "metadata": {},
   "outputs": [
    {
     "name": "stdout",
     "output_type": "stream",
     "text": [
      "Collecting selenium\n",
      "  Using cached selenium-3.141.0-py2.py3-none-any.whl (904 kB)\n",
      "Requirement already satisfied: urllib3 in c:\\users\\usuario\\anaconda3\\envs\\nutrition\\lib\\site-packages (from selenium) (1.26.4)\n",
      "Installing collected packages: selenium\n",
      "Successfully installed selenium-3.141.0\n"
     ]
    }
   ],
   "source": [
    "!pip install selenium"
   ]
  },
  {
   "cell_type": "code",
   "execution_count": 2,
   "metadata": {},
   "outputs": [],
   "source": [
    "from selenium import webdriver"
   ]
  },
  {
   "cell_type": "markdown",
   "metadata": {},
   "source": [
    "A robot is veeeery fast. We need to calm him down, because the Internet has not got infinite velocity"
   ]
  },
  {
   "cell_type": "code",
   "execution_count": 3,
   "metadata": {},
   "outputs": [],
   "source": [
    "from time import sleep"
   ]
  },
  {
   "cell_type": "markdown",
   "metadata": {},
   "source": [
    "## https://www.bedca.net/bdpub/index.php"
   ]
  },
  {
   "cell_type": "code",
   "execution_count": 4,
   "metadata": {},
   "outputs": [],
   "source": [
    "url = \"https://www.bedca.net/bdpub/index.php\""
   ]
  },
  {
   "cell_type": "code",
   "execution_count": 5,
   "metadata": {},
   "outputs": [],
   "source": [
    "driver = webdriver.Chrome(\"chromedriver\")"
   ]
  },
  {
   "cell_type": "markdown",
   "metadata": {},
   "source": [
    "### Access application form"
   ]
  },
  {
   "cell_type": "code",
   "execution_count": 195,
   "metadata": {},
   "outputs": [],
   "source": [
    "driver.get(url)"
   ]
  },
  {
   "cell_type": "code",
   "execution_count": 196,
   "metadata": {},
   "outputs": [],
   "source": [
    "driver.find_element_by_xpath('//*[@class=\"link\"][3]').click()"
   ]
  },
  {
   "cell_type": "code",
   "execution_count": 197,
   "metadata": {},
   "outputs": [],
   "source": [
    "driver.find_element_by_xpath('//*[@id=\"Avanzada\"]').click()"
   ]
  },
  {
   "cell_type": "markdown",
   "metadata": {},
   "source": [
    " * Web scraping lets us access the static HTML of the webpage\n",
    " * Web **crawling** lets us interact dinamycally with the browser!"
   ]
  },
  {
   "cell_type": "markdown",
   "metadata": {},
   "source": [
    "### Fill in the fields"
   ]
  },
  {
   "cell_type": "markdown",
   "metadata": {},
   "source": [
    "Exploring..."
   ]
  },
  {
   "cell_type": "markdown",
   "metadata": {},
   "source": [
    "### Energia"
   ]
  },
  {
   "cell_type": "code",
   "execution_count": 198,
   "metadata": {},
   "outputs": [],
   "source": [
    "driver.find_element_by_name(\"clist\").send_keys(\"e\")"
   ]
  },
  {
   "cell_type": "code",
   "execution_count": 199,
   "metadata": {},
   "outputs": [],
   "source": [
    "driver.find_element_by_xpath('//*[@onclick=\"scroll(0,0);componentbuildquery(this.form)\"]').click()"
   ]
  },
  {
   "cell_type": "code",
   "execution_count": 12,
   "metadata": {},
   "outputs": [],
   "source": [
    "import requests\n",
    "from bs4 import BeautifulSoup\n",
    "import pandas as pd"
   ]
  },
  {
   "cell_type": "code",
   "execution_count": 201,
   "metadata": {},
   "outputs": [],
   "source": [
    "body = driver.execute_script(\"return document.body\")\n",
    "source = body.get_attribute('innerHTML') "
   ]
  },
  {
   "cell_type": "code",
   "execution_count": 202,
   "metadata": {},
   "outputs": [],
   "source": [
    "soup = BeautifulSoup(source,\"html.parser\")"
   ]
  },
  {
   "cell_type": "code",
   "execution_count": 203,
   "metadata": {},
   "outputs": [],
   "source": [
    "tbody = soup.find_all('tbody')[0]\n",
    "energia = []\n",
    "for f in tbody.find_all('tr'):\n",
    "    fila = [e for e in f.find_all('td')]\n",
    "    if len(fila) > 0:\n",
    "        alimento ={\n",
    "            'Nombre': fila[1].text.strip(),\n",
    "            'Name': fila[2].text.strip(),\n",
    "            'Energia(kj,kcal)': fila[3].text.strip(),\n",
    "        }\n",
    "        energia.append(alimento)"
   ]
  },
  {
   "cell_type": "code",
   "execution_count": 204,
   "metadata": {},
   "outputs": [],
   "source": [
    "energia = pd.DataFrame(energia)"
   ]
  },
  {
   "cell_type": "markdown",
   "metadata": {},
   "source": [
    "### Grasa"
   ]
  },
  {
   "cell_type": "code",
   "execution_count": 205,
   "metadata": {},
   "outputs": [],
   "source": [
    "driver.find_element_by_xpath('//*[@class=\"button\"]').click()"
   ]
  },
  {
   "cell_type": "code",
   "execution_count": 206,
   "metadata": {},
   "outputs": [],
   "source": [
    "driver.find_element_by_name(\"clist\").send_keys(\"g\")"
   ]
  },
  {
   "cell_type": "code",
   "execution_count": 207,
   "metadata": {},
   "outputs": [],
   "source": [
    "driver.find_element_by_xpath('//*[@onclick=\"scroll(0,0);componentbuildquery(this.form)\"]').click()"
   ]
  },
  {
   "cell_type": "code",
   "execution_count": 208,
   "metadata": {},
   "outputs": [],
   "source": [
    "body = driver.execute_script(\"return document.body\")\n",
    "source = body.get_attribute('innerHTML') "
   ]
  },
  {
   "cell_type": "code",
   "execution_count": 209,
   "metadata": {},
   "outputs": [],
   "source": [
    "soup = BeautifulSoup(source,\"html.parser\")"
   ]
  },
  {
   "cell_type": "code",
   "execution_count": 210,
   "metadata": {},
   "outputs": [],
   "source": [
    "tbody = soup.find_all('tbody')[0]\n",
    "grasas = []\n",
    "for f in tbody.find_all('tr'):\n",
    "    fila = [e for e in f.find_all('td')]\n",
    "    if len(fila) > 0:\n",
    "        alimento ={\n",
    "            'Nombre': fila[1].text.strip(),\n",
    "            'Name': fila[2].text.strip(),\n",
    "            'Grasas': fila[3].text.strip(),\n",
    "        }\n",
    "        grasas.append(alimento)"
   ]
  },
  {
   "cell_type": "code",
   "execution_count": 211,
   "metadata": {},
   "outputs": [
    {
     "data": {
      "text/html": [
       "<div>\n",
       "<style scoped>\n",
       "    .dataframe tbody tr th:only-of-type {\n",
       "        vertical-align: middle;\n",
       "    }\n",
       "\n",
       "    .dataframe tbody tr th {\n",
       "        vertical-align: top;\n",
       "    }\n",
       "\n",
       "    .dataframe thead th {\n",
       "        text-align: right;\n",
       "    }\n",
       "</style>\n",
       "<table border=\"1\" class=\"dataframe\">\n",
       "  <thead>\n",
       "    <tr style=\"text-align: right;\">\n",
       "      <th></th>\n",
       "      <th>Nombre</th>\n",
       "      <th>Name</th>\n",
       "      <th>Grasas</th>\n",
       "    </tr>\n",
       "  </thead>\n",
       "  <tbody>\n",
       "    <tr>\n",
       "      <th>0</th>\n",
       "      <td>Aceite de sésamo</td>\n",
       "      <td>Sesame oil</td>\n",
       "      <td>100</td>\n",
       "    </tr>\n",
       "    <tr>\n",
       "      <th>1</th>\n",
       "      <td>Aceite de algodón</td>\n",
       "      <td>Cotton oil</td>\n",
       "      <td>100</td>\n",
       "    </tr>\n",
       "    <tr>\n",
       "      <th>2</th>\n",
       "      <td>Aceite de oliva virgen extra</td>\n",
       "      <td>Extra virgin olive oil</td>\n",
       "      <td>100</td>\n",
       "    </tr>\n",
       "    <tr>\n",
       "      <th>3</th>\n",
       "      <td>Aceite de colza</td>\n",
       "      <td>Rape oil</td>\n",
       "      <td>100</td>\n",
       "    </tr>\n",
       "    <tr>\n",
       "      <th>4</th>\n",
       "      <td>Aceite de oliva virgen extra, producción ecolo...</td>\n",
       "      <td>Extra virgin olive oil, organic</td>\n",
       "      <td>100</td>\n",
       "    </tr>\n",
       "    <tr>\n",
       "      <th>...</th>\n",
       "      <td>...</td>\n",
       "      <td>...</td>\n",
       "      <td>...</td>\n",
       "    </tr>\n",
       "    <tr>\n",
       "      <th>950</th>\n",
       "      <td>Mermelada de albaricoque</td>\n",
       "      <td>Marmalade, apricot</td>\n",
       "      <td></td>\n",
       "    </tr>\n",
       "    <tr>\n",
       "      <th>951</th>\n",
       "      <td>Refresco, sabor limón, con gas</td>\n",
       "      <td>Carbonated drink, lemon</td>\n",
       "      <td></td>\n",
       "    </tr>\n",
       "    <tr>\n",
       "      <th>952</th>\n",
       "      <td>Melón</td>\n",
       "      <td>Melon</td>\n",
       "      <td></td>\n",
       "    </tr>\n",
       "    <tr>\n",
       "      <th>953</th>\n",
       "      <td>Zumo de grosella negra</td>\n",
       "      <td>Black currant juice</td>\n",
       "      <td></td>\n",
       "    </tr>\n",
       "    <tr>\n",
       "      <th>954</th>\n",
       "      <td>Néctar de frutas exóticas, envasado</td>\n",
       "      <td>Tropical fruit nectar</td>\n",
       "      <td></td>\n",
       "    </tr>\n",
       "  </tbody>\n",
       "</table>\n",
       "<p>955 rows × 3 columns</p>\n",
       "</div>"
      ],
      "text/plain": [
       "                                                Nombre  \\\n",
       "0                                     Aceite de sésamo   \n",
       "1                                    Aceite de algodón   \n",
       "2                         Aceite de oliva virgen extra   \n",
       "3                                      Aceite de colza   \n",
       "4    Aceite de oliva virgen extra, producción ecolo...   \n",
       "..                                                 ...   \n",
       "950                           Mermelada de albaricoque   \n",
       "951                     Refresco, sabor limón, con gas   \n",
       "952                                              Melón   \n",
       "953                             Zumo de grosella negra   \n",
       "954                Néctar de frutas exóticas, envasado   \n",
       "\n",
       "                                Name Grasas  \n",
       "0                         Sesame oil    100  \n",
       "1                         Cotton oil    100  \n",
       "2             Extra virgin olive oil    100  \n",
       "3                           Rape oil    100  \n",
       "4    Extra virgin olive oil, organic    100  \n",
       "..                               ...    ...  \n",
       "950               Marmalade, apricot         \n",
       "951          Carbonated drink, lemon         \n",
       "952                            Melon         \n",
       "953              Black currant juice         \n",
       "954            Tropical fruit nectar         \n",
       "\n",
       "[955 rows x 3 columns]"
      ]
     },
     "execution_count": 211,
     "metadata": {},
     "output_type": "execute_result"
    }
   ],
   "source": [
    "grasas = pd.DataFrame(grasas)\n",
    "grasas"
   ]
  },
  {
   "cell_type": "markdown",
   "metadata": {},
   "source": [
    "### Proteinas"
   ]
  },
  {
   "cell_type": "code",
   "execution_count": 212,
   "metadata": {},
   "outputs": [],
   "source": [
    "driver.find_element_by_xpath('//*[@class=\"button\"]').click()"
   ]
  },
  {
   "cell_type": "code",
   "execution_count": 213,
   "metadata": {},
   "outputs": [],
   "source": [
    "driver.find_element_by_name(\"clist\").send_keys(\"p\")"
   ]
  },
  {
   "cell_type": "code",
   "execution_count": 214,
   "metadata": {},
   "outputs": [],
   "source": [
    "driver.find_element_by_xpath('//*[@onclick=\"scroll(0,0);componentbuildquery(this.form)\"]').click()"
   ]
  },
  {
   "cell_type": "code",
   "execution_count": 215,
   "metadata": {},
   "outputs": [],
   "source": [
    "body = driver.execute_script(\"return document.body\")\n",
    "source = body.get_attribute('innerHTML') "
   ]
  },
  {
   "cell_type": "code",
   "execution_count": 216,
   "metadata": {},
   "outputs": [],
   "source": [
    "soup = BeautifulSoup(source,\"html.parser\")"
   ]
  },
  {
   "cell_type": "code",
   "execution_count": 217,
   "metadata": {},
   "outputs": [],
   "source": [
    "tbody = soup.find_all('tbody')[0]\n",
    "proteinas = []\n",
    "for f in tbody.find_all('tr'):\n",
    "    fila = [e for e in f.find_all('td')]\n",
    "    if len(fila) > 0:\n",
    "        alimento ={\n",
    "            'Nombre': fila[1].text.strip(),\n",
    "            'Name': fila[2].text.strip(),\n",
    "            'Proteina': fila[3].text.strip(),\n",
    "        }\n",
    "        proteinas.append(alimento)"
   ]
  },
  {
   "cell_type": "code",
   "execution_count": 218,
   "metadata": {},
   "outputs": [
    {
     "data": {
      "text/html": [
       "<div>\n",
       "<style scoped>\n",
       "    .dataframe tbody tr th:only-of-type {\n",
       "        vertical-align: middle;\n",
       "    }\n",
       "\n",
       "    .dataframe tbody tr th {\n",
       "        vertical-align: top;\n",
       "    }\n",
       "\n",
       "    .dataframe thead th {\n",
       "        text-align: right;\n",
       "    }\n",
       "</style>\n",
       "<table border=\"1\" class=\"dataframe\">\n",
       "  <thead>\n",
       "    <tr style=\"text-align: right;\">\n",
       "      <th></th>\n",
       "      <th>Nombre</th>\n",
       "      <th>Name</th>\n",
       "      <th>Proteina</th>\n",
       "    </tr>\n",
       "  </thead>\n",
       "  <tbody>\n",
       "    <tr>\n",
       "      <th>0</th>\n",
       "      <td>Suplemento proteico</td>\n",
       "      <td>Protein supplement</td>\n",
       "      <td>87.75</td>\n",
       "    </tr>\n",
       "    <tr>\n",
       "      <th>1</th>\n",
       "      <td>Gelatina</td>\n",
       "      <td>Jelly</td>\n",
       "      <td>84.4</td>\n",
       "    </tr>\n",
       "    <tr>\n",
       "      <th>2</th>\n",
       "      <td>Bacalao, salado, crudo</td>\n",
       "      <td>Cod, salted, raw</td>\n",
       "      <td>75</td>\n",
       "    </tr>\n",
       "    <tr>\n",
       "      <th>3</th>\n",
       "      <td>Cecina</td>\n",
       "      <td>Couring beef</td>\n",
       "      <td>39</td>\n",
       "    </tr>\n",
       "    <tr>\n",
       "      <th>4</th>\n",
       "      <td>Harina de soja</td>\n",
       "      <td>Soy flour</td>\n",
       "      <td>37.3</td>\n",
       "    </tr>\n",
       "    <tr>\n",
       "      <th>...</th>\n",
       "      <td>...</td>\n",
       "      <td>...</td>\n",
       "      <td>...</td>\n",
       "    </tr>\n",
       "    <tr>\n",
       "      <th>950</th>\n",
       "      <td>Sidra</td>\n",
       "      <td>Sidra</td>\n",
       "      <td></td>\n",
       "    </tr>\n",
       "    <tr>\n",
       "      <th>951</th>\n",
       "      <td>Aceite de girasol</td>\n",
       "      <td>Sunflower oil</td>\n",
       "      <td></td>\n",
       "    </tr>\n",
       "    <tr>\n",
       "      <th>952</th>\n",
       "      <td>Aceite de nuez</td>\n",
       "      <td>Walnut oil</td>\n",
       "      <td></td>\n",
       "    </tr>\n",
       "    <tr>\n",
       "      <th>953</th>\n",
       "      <td>Refresco, sabor limón, con gas</td>\n",
       "      <td>Carbonated drink, lemon</td>\n",
       "      <td></td>\n",
       "    </tr>\n",
       "    <tr>\n",
       "      <th>954</th>\n",
       "      <td>Infusión</td>\n",
       "      <td>Infusion</td>\n",
       "      <td></td>\n",
       "    </tr>\n",
       "  </tbody>\n",
       "</table>\n",
       "<p>955 rows × 3 columns</p>\n",
       "</div>"
      ],
      "text/plain": [
       "                             Nombre                     Name Proteina\n",
       "0               Suplemento proteico       Protein supplement    87.75\n",
       "1                          Gelatina                    Jelly     84.4\n",
       "2            Bacalao, salado, crudo         Cod, salted, raw       75\n",
       "3                            Cecina             Couring beef       39\n",
       "4                    Harina de soja                Soy flour     37.3\n",
       "..                              ...                      ...      ...\n",
       "950                           Sidra                    Sidra         \n",
       "951               Aceite de girasol            Sunflower oil         \n",
       "952                  Aceite de nuez               Walnut oil         \n",
       "953  Refresco, sabor limón, con gas  Carbonated drink, lemon         \n",
       "954                        Infusión                 Infusion         \n",
       "\n",
       "[955 rows x 3 columns]"
      ]
     },
     "execution_count": 218,
     "metadata": {},
     "output_type": "execute_result"
    }
   ],
   "source": [
    "proteinas = pd.DataFrame(proteinas)\n",
    "proteinas"
   ]
  },
  {
   "cell_type": "markdown",
   "metadata": {},
   "source": [
    "### Carbohidratos"
   ]
  },
  {
   "cell_type": "code",
   "execution_count": 219,
   "metadata": {},
   "outputs": [],
   "source": [
    "driver.find_element_by_xpath('//*[@class=\"button\"]').click()"
   ]
  },
  {
   "cell_type": "code",
   "execution_count": 220,
   "metadata": {},
   "outputs": [],
   "source": [
    "driver.find_element_by_name(\"clist\").send_keys(\"c\")"
   ]
  },
  {
   "cell_type": "code",
   "execution_count": 221,
   "metadata": {},
   "outputs": [],
   "source": [
    "driver.find_element_by_xpath('//*[@onclick=\"scroll(0,0);componentbuildquery(this.form)\"]').click()"
   ]
  },
  {
   "cell_type": "code",
   "execution_count": 222,
   "metadata": {},
   "outputs": [],
   "source": [
    "body = driver.execute_script(\"return document.body\")\n",
    "source = body.get_attribute('innerHTML') "
   ]
  },
  {
   "cell_type": "code",
   "execution_count": 223,
   "metadata": {},
   "outputs": [],
   "source": [
    "soup = BeautifulSoup(source,\"html.parser\")"
   ]
  },
  {
   "cell_type": "code",
   "execution_count": 224,
   "metadata": {},
   "outputs": [],
   "source": [
    "tbody = soup.find_all('tbody')[0]\n",
    "carbohidratos = []\n",
    "for f in tbody.find_all('tr'):\n",
    "    fila = [e for e in f.find_all('td')]\n",
    "    if len(fila) > 0:\n",
    "        alimento ={\n",
    "            'Nombre': fila[1].text.strip(),\n",
    "            'Name': fila[2].text.strip(),\n",
    "            'Carbohidratos': fila[3].text.strip(),\n",
    "        }\n",
    "        carbohidratos.append(alimento)"
   ]
  },
  {
   "cell_type": "code",
   "execution_count": 225,
   "metadata": {},
   "outputs": [
    {
     "data": {
      "text/html": [
       "<div>\n",
       "<style scoped>\n",
       "    .dataframe tbody tr th:only-of-type {\n",
       "        vertical-align: middle;\n",
       "    }\n",
       "\n",
       "    .dataframe tbody tr th {\n",
       "        vertical-align: top;\n",
       "    }\n",
       "\n",
       "    .dataframe thead th {\n",
       "        text-align: right;\n",
       "    }\n",
       "</style>\n",
       "<table border=\"1\" class=\"dataframe\">\n",
       "  <thead>\n",
       "    <tr style=\"text-align: right;\">\n",
       "      <th></th>\n",
       "      <th>Nombre</th>\n",
       "      <th>Name</th>\n",
       "      <th>Carbohidratos</th>\n",
       "    </tr>\n",
       "  </thead>\n",
       "  <tbody>\n",
       "    <tr>\n",
       "      <th>0</th>\n",
       "      <td>Azúcar blanca</td>\n",
       "      <td>Sugar, white</td>\n",
       "      <td>100</td>\n",
       "    </tr>\n",
       "    <tr>\n",
       "      <th>1</th>\n",
       "      <td>Fructosa</td>\n",
       "      <td>Fructose</td>\n",
       "      <td>100</td>\n",
       "    </tr>\n",
       "    <tr>\n",
       "      <th>2</th>\n",
       "      <td>Azúcar, moreno</td>\n",
       "      <td>Sugar, brown</td>\n",
       "      <td>97.6</td>\n",
       "    </tr>\n",
       "    <tr>\n",
       "      <th>3</th>\n",
       "      <td>Caramelo</td>\n",
       "      <td>Candy</td>\n",
       "      <td>95</td>\n",
       "    </tr>\n",
       "    <tr>\n",
       "      <th>4</th>\n",
       "      <td>Almidón de maíz</td>\n",
       "      <td>Corn starch</td>\n",
       "      <td>91.3</td>\n",
       "    </tr>\n",
       "    <tr>\n",
       "      <th>...</th>\n",
       "      <td>...</td>\n",
       "      <td>...</td>\n",
       "      <td>...</td>\n",
       "    </tr>\n",
       "    <tr>\n",
       "      <th>948</th>\n",
       "      <td>Huevo de pato, crudo</td>\n",
       "      <td>Egg, duck, whole, raw</td>\n",
       "      <td></td>\n",
       "    </tr>\n",
       "    <tr>\n",
       "      <th>949</th>\n",
       "      <td>Queso majorero</td>\n",
       "      <td>Cheese, \"majorero\" type</td>\n",
       "      <td></td>\n",
       "    </tr>\n",
       "    <tr>\n",
       "      <th>950</th>\n",
       "      <td>Queso flor de guía</td>\n",
       "      <td>Cheese, \"flor de guía\" type</td>\n",
       "      <td></td>\n",
       "    </tr>\n",
       "    <tr>\n",
       "      <th>951</th>\n",
       "      <td>Carne de cerdo de capa blanca, lomo, partes gr...</td>\n",
       "      <td>Pork meat, loin, separable lean and fat, raw</td>\n",
       "      <td></td>\n",
       "    </tr>\n",
       "    <tr>\n",
       "      <th>952</th>\n",
       "      <td>Bacalao, crudo</td>\n",
       "      <td>Cod, raw</td>\n",
       "      <td></td>\n",
       "    </tr>\n",
       "  </tbody>\n",
       "</table>\n",
       "<p>953 rows × 3 columns</p>\n",
       "</div>"
      ],
      "text/plain": [
       "                                                Nombre  \\\n",
       "0                                        Azúcar blanca   \n",
       "1                                             Fructosa   \n",
       "2                                       Azúcar, moreno   \n",
       "3                                             Caramelo   \n",
       "4                                      Almidón de maíz   \n",
       "..                                                 ...   \n",
       "948                               Huevo de pato, crudo   \n",
       "949                                     Queso majorero   \n",
       "950                                 Queso flor de guía   \n",
       "951  Carne de cerdo de capa blanca, lomo, partes gr...   \n",
       "952                                     Bacalao, crudo   \n",
       "\n",
       "                                             Name Carbohidratos  \n",
       "0                                    Sugar, white           100  \n",
       "1                                        Fructose           100  \n",
       "2                                    Sugar, brown          97.6  \n",
       "3                                           Candy            95  \n",
       "4                                     Corn starch          91.3  \n",
       "..                                            ...           ...  \n",
       "948                         Egg, duck, whole, raw                \n",
       "949                       Cheese, \"majorero\" type                \n",
       "950                   Cheese, \"flor de guía\" type                \n",
       "951  Pork meat, loin, separable lean and fat, raw                \n",
       "952                                      Cod, raw                \n",
       "\n",
       "[953 rows x 3 columns]"
      ]
     },
     "execution_count": 225,
     "metadata": {},
     "output_type": "execute_result"
    }
   ],
   "source": [
    "carbohidratos = pd.DataFrame(carbohidratos)\n",
    "carbohidratos"
   ]
  },
  {
   "cell_type": "markdown",
   "metadata": {},
   "source": [
    "### Fibra"
   ]
  },
  {
   "cell_type": "code",
   "execution_count": 226,
   "metadata": {},
   "outputs": [],
   "source": [
    "driver.find_element_by_xpath('//*[@class=\"button\"]').click()"
   ]
  },
  {
   "cell_type": "code",
   "execution_count": 227,
   "metadata": {},
   "outputs": [],
   "source": [
    "driver.find_element_by_name(\"clist\").send_keys(\"f\")"
   ]
  },
  {
   "cell_type": "code",
   "execution_count": 228,
   "metadata": {},
   "outputs": [],
   "source": [
    "driver.find_element_by_xpath('//*[@onclick=\"scroll(0,0);componentbuildquery(this.form)\"]').click()"
   ]
  },
  {
   "cell_type": "code",
   "execution_count": 229,
   "metadata": {},
   "outputs": [],
   "source": [
    "body = driver.execute_script(\"return document.body\")\n",
    "source = body.get_attribute('innerHTML') "
   ]
  },
  {
   "cell_type": "code",
   "execution_count": 230,
   "metadata": {},
   "outputs": [],
   "source": [
    "soup = BeautifulSoup(source,\"html.parser\")"
   ]
  },
  {
   "cell_type": "code",
   "execution_count": 231,
   "metadata": {},
   "outputs": [],
   "source": [
    "tbody = soup.find_all('tbody')[0]\n",
    "fibra = []\n",
    "for f in tbody.find_all('tr'):\n",
    "    fila = [e for e in f.find_all('td')]\n",
    "    if len(fila) > 0:\n",
    "        alimento ={\n",
    "            'Nombre': fila[1].text.strip(),\n",
    "            'Name': fila[2].text.strip(),\n",
    "            'Fibra': fila[3].text.strip(),\n",
    "        }\n",
    "        fibra.append(alimento)"
   ]
  },
  {
   "cell_type": "code",
   "execution_count": 232,
   "metadata": {},
   "outputs": [
    {
     "data": {
      "text/html": [
       "<div>\n",
       "<style scoped>\n",
       "    .dataframe tbody tr th:only-of-type {\n",
       "        vertical-align: middle;\n",
       "    }\n",
       "\n",
       "    .dataframe tbody tr th {\n",
       "        vertical-align: top;\n",
       "    }\n",
       "\n",
       "    .dataframe thead th {\n",
       "        text-align: right;\n",
       "    }\n",
       "</style>\n",
       "<table border=\"1\" class=\"dataframe\">\n",
       "  <thead>\n",
       "    <tr style=\"text-align: right;\">\n",
       "      <th></th>\n",
       "      <th>Nombre</th>\n",
       "      <th>Name</th>\n",
       "      <th>Fibra</th>\n",
       "    </tr>\n",
       "  </thead>\n",
       "  <tbody>\n",
       "    <tr>\n",
       "      <th>0</th>\n",
       "      <td>Café, en grano o molido, descafeinado</td>\n",
       "      <td>Coffee, seed or powder, descaffeinated</td>\n",
       "      <td>58.2</td>\n",
       "    </tr>\n",
       "    <tr>\n",
       "      <th>1</th>\n",
       "      <td>Canela, en polvo</td>\n",
       "      <td>Cinnamon, powder</td>\n",
       "      <td>54.3</td>\n",
       "    </tr>\n",
       "    <tr>\n",
       "      <th>2</th>\n",
       "      <td>Salvado de trigo</td>\n",
       "      <td>Wheat, bran</td>\n",
       "      <td>42.8</td>\n",
       "    </tr>\n",
       "    <tr>\n",
       "      <th>3</th>\n",
       "      <td>Orégano, seco</td>\n",
       "      <td>oregano, dried</td>\n",
       "      <td>42.8</td>\n",
       "    </tr>\n",
       "    <tr>\n",
       "      <th>4</th>\n",
       "      <td>Albahaca</td>\n",
       "      <td>Basil</td>\n",
       "      <td>40.5</td>\n",
       "    </tr>\n",
       "    <tr>\n",
       "      <th>...</th>\n",
       "      <td>...</td>\n",
       "      <td>...</td>\n",
       "      <td>...</td>\n",
       "    </tr>\n",
       "    <tr>\n",
       "      <th>931</th>\n",
       "      <td>Jalea real</td>\n",
       "      <td>Royal jelly</td>\n",
       "      <td></td>\n",
       "    </tr>\n",
       "    <tr>\n",
       "      <th>932</th>\n",
       "      <td>Mayonesa, aceite de oliva</td>\n",
       "      <td>Mayonnaise, olive oil, home-prepared</td>\n",
       "      <td></td>\n",
       "    </tr>\n",
       "    <tr>\n",
       "      <th>933</th>\n",
       "      <td>Zumo de piña y uva</td>\n",
       "      <td>Pineapple and grape juice</td>\n",
       "      <td></td>\n",
       "    </tr>\n",
       "    <tr>\n",
       "      <th>934</th>\n",
       "      <td>Zumo de mango</td>\n",
       "      <td>Mango juice</td>\n",
       "      <td></td>\n",
       "    </tr>\n",
       "    <tr>\n",
       "      <th>935</th>\n",
       "      <td>Queso parmesano</td>\n",
       "      <td>Parmesan cheese</td>\n",
       "      <td></td>\n",
       "    </tr>\n",
       "  </tbody>\n",
       "</table>\n",
       "<p>936 rows × 3 columns</p>\n",
       "</div>"
      ],
      "text/plain": [
       "                                    Nombre  \\\n",
       "0    Café, en grano o molido, descafeinado   \n",
       "1                         Canela, en polvo   \n",
       "2                         Salvado de trigo   \n",
       "3                            Orégano, seco   \n",
       "4                                 Albahaca   \n",
       "..                                     ...   \n",
       "931                             Jalea real   \n",
       "932              Mayonesa, aceite de oliva   \n",
       "933                     Zumo de piña y uva   \n",
       "934                          Zumo de mango   \n",
       "935                        Queso parmesano   \n",
       "\n",
       "                                       Name Fibra  \n",
       "0    Coffee, seed or powder, descaffeinated  58.2  \n",
       "1                          Cinnamon, powder  54.3  \n",
       "2                               Wheat, bran  42.8  \n",
       "3                            oregano, dried  42.8  \n",
       "4                                     Basil  40.5  \n",
       "..                                      ...   ...  \n",
       "931                             Royal jelly        \n",
       "932    Mayonnaise, olive oil, home-prepared        \n",
       "933               Pineapple and grape juice        \n",
       "934                             Mango juice        \n",
       "935                         Parmesan cheese        \n",
       "\n",
       "[936 rows x 3 columns]"
      ]
     },
     "execution_count": 232,
     "metadata": {},
     "output_type": "execute_result"
    }
   ],
   "source": [
    "fibra = pd.DataFrame(fibra)\n",
    "fibra"
   ]
  },
  {
   "cell_type": "code",
   "execution_count": 233,
   "metadata": {},
   "outputs": [],
   "source": [
    "E_G = pd.merge(energia, grasas, on='Nombre')"
   ]
  },
  {
   "cell_type": "code",
   "execution_count": 234,
   "metadata": {},
   "outputs": [],
   "source": [
    "E_G = E_G.drop(columns=\"Name_x\")"
   ]
  },
  {
   "cell_type": "code",
   "execution_count": 235,
   "metadata": {},
   "outputs": [],
   "source": [
    "E_G_P = pd.merge(E_G, proteinas, on='Nombre')"
   ]
  },
  {
   "cell_type": "code",
   "execution_count": 238,
   "metadata": {},
   "outputs": [],
   "source": [
    "E_G_P_C = pd.merge(E_G_P, carbohidratos, on='Nombre')"
   ]
  },
  {
   "cell_type": "code",
   "execution_count": 239,
   "metadata": {},
   "outputs": [
    {
     "data": {
      "text/html": [
       "<div>\n",
       "<style scoped>\n",
       "    .dataframe tbody tr th:only-of-type {\n",
       "        vertical-align: middle;\n",
       "    }\n",
       "\n",
       "    .dataframe tbody tr th {\n",
       "        vertical-align: top;\n",
       "    }\n",
       "\n",
       "    .dataframe thead th {\n",
       "        text-align: right;\n",
       "    }\n",
       "</style>\n",
       "<table border=\"1\" class=\"dataframe\">\n",
       "  <thead>\n",
       "    <tr style=\"text-align: right;\">\n",
       "      <th></th>\n",
       "      <th>Nombre</th>\n",
       "      <th>Energia(kj,kcal)</th>\n",
       "      <th>Name_y</th>\n",
       "      <th>Grasas</th>\n",
       "      <th>Name_x</th>\n",
       "      <th>Proteina</th>\n",
       "      <th>Name_y</th>\n",
       "      <th>Carbohidratos</th>\n",
       "    </tr>\n",
       "  </thead>\n",
       "  <tbody>\n",
       "    <tr>\n",
       "      <th>0</th>\n",
       "      <td>Aceite de colza</td>\n",
       "      <td>3700 (888)</td>\n",
       "      <td>Rape oil</td>\n",
       "      <td>100</td>\n",
       "      <td>Rape oil</td>\n",
       "      <td>0</td>\n",
       "      <td>Rape oil</td>\n",
       "      <td>0</td>\n",
       "    </tr>\n",
       "    <tr>\n",
       "      <th>1</th>\n",
       "      <td>Aceite de oliva virgen extra</td>\n",
       "      <td>3700 (888)</td>\n",
       "      <td>Extra virgin olive oil</td>\n",
       "      <td>100</td>\n",
       "      <td>Extra virgin olive oil</td>\n",
       "      <td></td>\n",
       "      <td>Extra virgin olive oil</td>\n",
       "      <td>0</td>\n",
       "    </tr>\n",
       "    <tr>\n",
       "      <th>2</th>\n",
       "      <td>Aceite de coco</td>\n",
       "      <td>3700 (888)</td>\n",
       "      <td>Coconut oil</td>\n",
       "      <td>100</td>\n",
       "      <td>Coconut oil</td>\n",
       "      <td>0</td>\n",
       "      <td>Coconut oil</td>\n",
       "      <td>0</td>\n",
       "    </tr>\n",
       "    <tr>\n",
       "      <th>3</th>\n",
       "      <td>Aceite de oliva virgen extra, producción ecolo...</td>\n",
       "      <td>3700 (888)</td>\n",
       "      <td>Extra virgin olive oil, organic</td>\n",
       "      <td>100</td>\n",
       "      <td>Extra virgin olive oil, organic</td>\n",
       "      <td></td>\n",
       "      <td>Extra virgin olive oil, organic</td>\n",
       "      <td>0</td>\n",
       "    </tr>\n",
       "    <tr>\n",
       "      <th>4</th>\n",
       "      <td>Aceite de palma</td>\n",
       "      <td>3700 (888)</td>\n",
       "      <td>Palm oil</td>\n",
       "      <td>100</td>\n",
       "      <td>Palm oil</td>\n",
       "      <td>0</td>\n",
       "      <td>Palm oil</td>\n",
       "      <td>0</td>\n",
       "    </tr>\n",
       "    <tr>\n",
       "      <th>...</th>\n",
       "      <td>...</td>\n",
       "      <td>...</td>\n",
       "      <td>...</td>\n",
       "      <td>...</td>\n",
       "      <td>...</td>\n",
       "      <td>...</td>\n",
       "      <td>...</td>\n",
       "      <td>...</td>\n",
       "    </tr>\n",
       "    <tr>\n",
       "      <th>948</th>\n",
       "      <td>Infusión</td>\n",
       "      <td>0 (0)</td>\n",
       "      <td>Infusion</td>\n",
       "      <td>0</td>\n",
       "      <td>Infusion</td>\n",
       "      <td></td>\n",
       "      <td>Infusion</td>\n",
       "      <td></td>\n",
       "    </tr>\n",
       "    <tr>\n",
       "      <th>949</th>\n",
       "      <td>Soda</td>\n",
       "      <td>0 (0)</td>\n",
       "      <td>Soda</td>\n",
       "      <td></td>\n",
       "      <td>Soda</td>\n",
       "      <td>0</td>\n",
       "      <td>Soda</td>\n",
       "      <td>0</td>\n",
       "    </tr>\n",
       "    <tr>\n",
       "      <th>950</th>\n",
       "      <td>Refresco \"tipo gaseosa\"</td>\n",
       "      <td>0 (0)</td>\n",
       "      <td>Soft drink, soda type</td>\n",
       "      <td>0</td>\n",
       "      <td>Soft drink, soda type</td>\n",
       "      <td></td>\n",
       "      <td>Soft drink, soda type</td>\n",
       "      <td></td>\n",
       "    </tr>\n",
       "    <tr>\n",
       "      <th>951</th>\n",
       "      <td>Agua de la red</td>\n",
       "      <td>0 (0)</td>\n",
       "      <td>Tap water</td>\n",
       "      <td>0</td>\n",
       "      <td>Tap water</td>\n",
       "      <td>0</td>\n",
       "      <td>Tap water</td>\n",
       "      <td>0</td>\n",
       "    </tr>\n",
       "    <tr>\n",
       "      <th>952</th>\n",
       "      <td>Agua mineral, mineralización debil</td>\n",
       "      <td>0 (0)</td>\n",
       "      <td>Mineral water</td>\n",
       "      <td>0</td>\n",
       "      <td>Mineral water</td>\n",
       "      <td>0</td>\n",
       "      <td>Mineral water</td>\n",
       "      <td>0</td>\n",
       "    </tr>\n",
       "  </tbody>\n",
       "</table>\n",
       "<p>953 rows × 8 columns</p>\n",
       "</div>"
      ],
      "text/plain": [
       "                                                Nombre Energia(kj,kcal)  \\\n",
       "0                                      Aceite de colza       3700 (888)   \n",
       "1                         Aceite de oliva virgen extra       3700 (888)   \n",
       "2                                       Aceite de coco       3700 (888)   \n",
       "3    Aceite de oliva virgen extra, producción ecolo...       3700 (888)   \n",
       "4                                      Aceite de palma       3700 (888)   \n",
       "..                                                 ...              ...   \n",
       "948                                           Infusión            0 (0)   \n",
       "949                                               Soda            0 (0)   \n",
       "950                            Refresco \"tipo gaseosa\"            0 (0)   \n",
       "951                                     Agua de la red            0 (0)   \n",
       "952                 Agua mineral, mineralización debil            0 (0)   \n",
       "\n",
       "                              Name_y Grasas                           Name_x  \\\n",
       "0                           Rape oil    100                         Rape oil   \n",
       "1             Extra virgin olive oil    100           Extra virgin olive oil   \n",
       "2                        Coconut oil    100                      Coconut oil   \n",
       "3    Extra virgin olive oil, organic    100  Extra virgin olive oil, organic   \n",
       "4                           Palm oil    100                         Palm oil   \n",
       "..                               ...    ...                              ...   \n",
       "948                         Infusion      0                         Infusion   \n",
       "949                             Soda                                    Soda   \n",
       "950            Soft drink, soda type      0            Soft drink, soda type   \n",
       "951                        Tap water      0                        Tap water   \n",
       "952                    Mineral water      0                    Mineral water   \n",
       "\n",
       "    Proteina                           Name_y Carbohidratos  \n",
       "0          0                         Rape oil             0  \n",
       "1                      Extra virgin olive oil             0  \n",
       "2          0                      Coconut oil             0  \n",
       "3             Extra virgin olive oil, organic             0  \n",
       "4          0                         Palm oil             0  \n",
       "..       ...                              ...           ...  \n",
       "948                                  Infusion                \n",
       "949        0                             Soda             0  \n",
       "950                     Soft drink, soda type                \n",
       "951        0                        Tap water             0  \n",
       "952        0                    Mineral water             0  \n",
       "\n",
       "[953 rows x 8 columns]"
      ]
     },
     "execution_count": 239,
     "metadata": {},
     "output_type": "execute_result"
    }
   ],
   "source": [
    "E_G_P_C"
   ]
  },
  {
   "cell_type": "code",
   "execution_count": 240,
   "metadata": {},
   "outputs": [],
   "source": [
    "E_G_P_C[\"Name\"] = E_G_P_C[\"Name_x\"]"
   ]
  },
  {
   "cell_type": "code",
   "execution_count": 241,
   "metadata": {},
   "outputs": [],
   "source": [
    "df = E_G_P_C[[\"Nombre\", \"Name\", \"Energia(kj,kcal)\", \"Grasas\", \"Proteina\", \"Carbohidratos\"]]"
   ]
  },
  {
   "cell_type": "code",
   "execution_count": 242,
   "metadata": {},
   "outputs": [
    {
     "data": {
      "text/html": [
       "<div>\n",
       "<style scoped>\n",
       "    .dataframe tbody tr th:only-of-type {\n",
       "        vertical-align: middle;\n",
       "    }\n",
       "\n",
       "    .dataframe tbody tr th {\n",
       "        vertical-align: top;\n",
       "    }\n",
       "\n",
       "    .dataframe thead th {\n",
       "        text-align: right;\n",
       "    }\n",
       "</style>\n",
       "<table border=\"1\" class=\"dataframe\">\n",
       "  <thead>\n",
       "    <tr style=\"text-align: right;\">\n",
       "      <th></th>\n",
       "      <th>Nombre</th>\n",
       "      <th>Name</th>\n",
       "      <th>Energia(kj,kcal)</th>\n",
       "      <th>Grasas</th>\n",
       "      <th>Proteina</th>\n",
       "      <th>Carbohidratos</th>\n",
       "    </tr>\n",
       "  </thead>\n",
       "  <tbody>\n",
       "    <tr>\n",
       "      <th>0</th>\n",
       "      <td>Aceite de colza</td>\n",
       "      <td>Rape oil</td>\n",
       "      <td>3700 (888)</td>\n",
       "      <td>100</td>\n",
       "      <td>0</td>\n",
       "      <td>0</td>\n",
       "    </tr>\n",
       "    <tr>\n",
       "      <th>1</th>\n",
       "      <td>Aceite de oliva virgen extra</td>\n",
       "      <td>Extra virgin olive oil</td>\n",
       "      <td>3700 (888)</td>\n",
       "      <td>100</td>\n",
       "      <td></td>\n",
       "      <td>0</td>\n",
       "    </tr>\n",
       "    <tr>\n",
       "      <th>2</th>\n",
       "      <td>Aceite de coco</td>\n",
       "      <td>Coconut oil</td>\n",
       "      <td>3700 (888)</td>\n",
       "      <td>100</td>\n",
       "      <td>0</td>\n",
       "      <td>0</td>\n",
       "    </tr>\n",
       "    <tr>\n",
       "      <th>3</th>\n",
       "      <td>Aceite de oliva virgen extra, producción ecolo...</td>\n",
       "      <td>Extra virgin olive oil, organic</td>\n",
       "      <td>3700 (888)</td>\n",
       "      <td>100</td>\n",
       "      <td></td>\n",
       "      <td>0</td>\n",
       "    </tr>\n",
       "    <tr>\n",
       "      <th>4</th>\n",
       "      <td>Aceite de palma</td>\n",
       "      <td>Palm oil</td>\n",
       "      <td>3700 (888)</td>\n",
       "      <td>100</td>\n",
       "      <td>0</td>\n",
       "      <td>0</td>\n",
       "    </tr>\n",
       "    <tr>\n",
       "      <th>...</th>\n",
       "      <td>...</td>\n",
       "      <td>...</td>\n",
       "      <td>...</td>\n",
       "      <td>...</td>\n",
       "      <td>...</td>\n",
       "      <td>...</td>\n",
       "    </tr>\n",
       "    <tr>\n",
       "      <th>948</th>\n",
       "      <td>Infusión</td>\n",
       "      <td>Infusion</td>\n",
       "      <td>0 (0)</td>\n",
       "      <td>0</td>\n",
       "      <td></td>\n",
       "      <td></td>\n",
       "    </tr>\n",
       "    <tr>\n",
       "      <th>949</th>\n",
       "      <td>Soda</td>\n",
       "      <td>Soda</td>\n",
       "      <td>0 (0)</td>\n",
       "      <td></td>\n",
       "      <td>0</td>\n",
       "      <td>0</td>\n",
       "    </tr>\n",
       "    <tr>\n",
       "      <th>950</th>\n",
       "      <td>Refresco \"tipo gaseosa\"</td>\n",
       "      <td>Soft drink, soda type</td>\n",
       "      <td>0 (0)</td>\n",
       "      <td>0</td>\n",
       "      <td></td>\n",
       "      <td></td>\n",
       "    </tr>\n",
       "    <tr>\n",
       "      <th>951</th>\n",
       "      <td>Agua de la red</td>\n",
       "      <td>Tap water</td>\n",
       "      <td>0 (0)</td>\n",
       "      <td>0</td>\n",
       "      <td>0</td>\n",
       "      <td>0</td>\n",
       "    </tr>\n",
       "    <tr>\n",
       "      <th>952</th>\n",
       "      <td>Agua mineral, mineralización debil</td>\n",
       "      <td>Mineral water</td>\n",
       "      <td>0 (0)</td>\n",
       "      <td>0</td>\n",
       "      <td>0</td>\n",
       "      <td>0</td>\n",
       "    </tr>\n",
       "  </tbody>\n",
       "</table>\n",
       "<p>953 rows × 6 columns</p>\n",
       "</div>"
      ],
      "text/plain": [
       "                                                Nombre  \\\n",
       "0                                      Aceite de colza   \n",
       "1                         Aceite de oliva virgen extra   \n",
       "2                                       Aceite de coco   \n",
       "3    Aceite de oliva virgen extra, producción ecolo...   \n",
       "4                                      Aceite de palma   \n",
       "..                                                 ...   \n",
       "948                                           Infusión   \n",
       "949                                               Soda   \n",
       "950                            Refresco \"tipo gaseosa\"   \n",
       "951                                     Agua de la red   \n",
       "952                 Agua mineral, mineralización debil   \n",
       "\n",
       "                                Name Energia(kj,kcal) Grasas Proteina  \\\n",
       "0                           Rape oil       3700 (888)    100        0   \n",
       "1             Extra virgin olive oil       3700 (888)    100            \n",
       "2                        Coconut oil       3700 (888)    100        0   \n",
       "3    Extra virgin olive oil, organic       3700 (888)    100            \n",
       "4                           Palm oil       3700 (888)    100        0   \n",
       "..                               ...              ...    ...      ...   \n",
       "948                         Infusion            0 (0)      0            \n",
       "949                             Soda            0 (0)               0   \n",
       "950            Soft drink, soda type            0 (0)      0            \n",
       "951                        Tap water            0 (0)      0        0   \n",
       "952                    Mineral water            0 (0)      0        0   \n",
       "\n",
       "    Carbohidratos  \n",
       "0               0  \n",
       "1               0  \n",
       "2               0  \n",
       "3               0  \n",
       "4               0  \n",
       "..            ...  \n",
       "948                \n",
       "949             0  \n",
       "950                \n",
       "951             0  \n",
       "952             0  \n",
       "\n",
       "[953 rows x 6 columns]"
      ]
     },
     "execution_count": 242,
     "metadata": {},
     "output_type": "execute_result"
    }
   ],
   "source": [
    "df"
   ]
  },
  {
   "cell_type": "code",
   "execution_count": 343,
   "metadata": {},
   "outputs": [],
   "source": [
    "kcal = []\n",
    "for x in df[\"Energia(kj,kcal)\"]:\n",
    "    split = x.split()+[\"(0)\"]\n",
    "    kcal.append(split)"
   ]
  },
  {
   "cell_type": "code",
   "execution_count": 359,
   "metadata": {},
   "outputs": [],
   "source": [
    "kcal2 = []"
   ]
  },
  {
   "cell_type": "code",
   "execution_count": 360,
   "metadata": {},
   "outputs": [],
   "source": [
    "for x in kcal:\n",
    "    kcal2.append(x[1])"
   ]
  },
  {
   "cell_type": "code",
   "execution_count": 362,
   "metadata": {},
   "outputs": [],
   "source": [
    "kcal2 = pd.DataFrame(kcal2)"
   ]
  },
  {
   "cell_type": "code",
   "execution_count": 390,
   "metadata": {},
   "outputs": [
    {
     "name": "stderr",
     "output_type": "stream",
     "text": [
      "<ipython-input-390-a856e0feff64>:1: SettingWithCopyWarning: \n",
      "A value is trying to be set on a copy of a slice from a DataFrame.\n",
      "Try using .loc[row_indexer,col_indexer] = value instead\n",
      "\n",
      "See the caveats in the documentation: https://pandas.pydata.org/pandas-docs/stable/user_guide/indexing.html#returning-a-view-versus-a-copy\n",
      "  df[\"Energia(kcal)\"] = kcal2\n"
     ]
    }
   ],
   "source": [
    "df[\"Energia(kcal)\"] = kcal2"
   ]
  },
  {
   "cell_type": "code",
   "execution_count": 376,
   "metadata": {},
   "outputs": [],
   "source": [
    "def coincidencia(patron, string):\n",
    "    \"\"\"\n",
    "    Search regex pattern and return it in lowercase .\n",
    "    patron:\n",
    "        regex pattern\n",
    "    Returns:\n",
    "        pattern group lowercase\n",
    "    \"\"\"\n",
    "    import re\n",
    "    dni = re.search(patron, string)\n",
    "    if dni is None:\n",
    "        return 0\n",
    "    return dni.group().lower()"
   ]
  },
  {
   "cell_type": "code",
   "execution_count": 392,
   "metadata": {},
   "outputs": [],
   "source": [
    "patron= r'(\\d+)'"
   ]
  },
  {
   "cell_type": "code",
   "execution_count": 393,
   "metadata": {},
   "outputs": [
    {
     "name": "stderr",
     "output_type": "stream",
     "text": [
      "<ipython-input-393-12f7a8109779>:1: SettingWithCopyWarning: \n",
      "A value is trying to be set on a copy of a slice from a DataFrame.\n",
      "Try using .loc[row_indexer,col_indexer] = value instead\n",
      "\n",
      "See the caveats in the documentation: https://pandas.pydata.org/pandas-docs/stable/user_guide/indexing.html#returning-a-view-versus-a-copy\n",
      "  df[\"Energia(kcal)\"] = df[\"Energia(kcal)\"].apply(lambda x: coincidencia(patron, x))\n"
     ]
    }
   ],
   "source": [
    "df[\"Energia(kcal)\"] = df[\"Energia(kcal)\"].apply(lambda x: coincidencia(patron, x))"
   ]
  },
  {
   "cell_type": "code",
   "execution_count": 394,
   "metadata": {},
   "outputs": [
    {
     "data": {
      "text/html": [
       "<div>\n",
       "<style scoped>\n",
       "    .dataframe tbody tr th:only-of-type {\n",
       "        vertical-align: middle;\n",
       "    }\n",
       "\n",
       "    .dataframe tbody tr th {\n",
       "        vertical-align: top;\n",
       "    }\n",
       "\n",
       "    .dataframe thead th {\n",
       "        text-align: right;\n",
       "    }\n",
       "</style>\n",
       "<table border=\"1\" class=\"dataframe\">\n",
       "  <thead>\n",
       "    <tr style=\"text-align: right;\">\n",
       "      <th></th>\n",
       "      <th>Nombre</th>\n",
       "      <th>Name</th>\n",
       "      <th>Energia(kcal)</th>\n",
       "      <th>Grasas</th>\n",
       "      <th>Proteina</th>\n",
       "      <th>Carbohidratos</th>\n",
       "    </tr>\n",
       "  </thead>\n",
       "  <tbody>\n",
       "    <tr>\n",
       "      <th>0</th>\n",
       "      <td>Aceite de colza</td>\n",
       "      <td>Rape oil</td>\n",
       "      <td>888</td>\n",
       "      <td>100.0</td>\n",
       "      <td>0.0</td>\n",
       "      <td>0.0</td>\n",
       "    </tr>\n",
       "    <tr>\n",
       "      <th>1</th>\n",
       "      <td>Aceite de oliva virgen extra</td>\n",
       "      <td>Extra virgin olive oil</td>\n",
       "      <td>888</td>\n",
       "      <td>100.0</td>\n",
       "      <td>0.0</td>\n",
       "      <td>0.0</td>\n",
       "    </tr>\n",
       "    <tr>\n",
       "      <th>2</th>\n",
       "      <td>Aceite de coco</td>\n",
       "      <td>Coconut oil</td>\n",
       "      <td>888</td>\n",
       "      <td>100.0</td>\n",
       "      <td>0.0</td>\n",
       "      <td>0.0</td>\n",
       "    </tr>\n",
       "    <tr>\n",
       "      <th>3</th>\n",
       "      <td>Aceite de oliva virgen extra, producción ecolo...</td>\n",
       "      <td>Extra virgin olive oil, organic</td>\n",
       "      <td>888</td>\n",
       "      <td>100.0</td>\n",
       "      <td>0.0</td>\n",
       "      <td>0.0</td>\n",
       "    </tr>\n",
       "    <tr>\n",
       "      <th>4</th>\n",
       "      <td>Aceite de palma</td>\n",
       "      <td>Palm oil</td>\n",
       "      <td>888</td>\n",
       "      <td>100.0</td>\n",
       "      <td>0.0</td>\n",
       "      <td>0.0</td>\n",
       "    </tr>\n",
       "    <tr>\n",
       "      <th>...</th>\n",
       "      <td>...</td>\n",
       "      <td>...</td>\n",
       "      <td>...</td>\n",
       "      <td>...</td>\n",
       "      <td>...</td>\n",
       "      <td>...</td>\n",
       "    </tr>\n",
       "    <tr>\n",
       "      <th>948</th>\n",
       "      <td>Infusión</td>\n",
       "      <td>Infusion</td>\n",
       "      <td>0</td>\n",
       "      <td>0.0</td>\n",
       "      <td>0.0</td>\n",
       "      <td>0.0</td>\n",
       "    </tr>\n",
       "    <tr>\n",
       "      <th>949</th>\n",
       "      <td>Soda</td>\n",
       "      <td>Soda</td>\n",
       "      <td>0</td>\n",
       "      <td>0.0</td>\n",
       "      <td>0.0</td>\n",
       "      <td>0.0</td>\n",
       "    </tr>\n",
       "    <tr>\n",
       "      <th>950</th>\n",
       "      <td>Refresco \"tipo gaseosa\"</td>\n",
       "      <td>Soft drink, soda type</td>\n",
       "      <td>0</td>\n",
       "      <td>0.0</td>\n",
       "      <td>0.0</td>\n",
       "      <td>0.0</td>\n",
       "    </tr>\n",
       "    <tr>\n",
       "      <th>951</th>\n",
       "      <td>Agua de la red</td>\n",
       "      <td>Tap water</td>\n",
       "      <td>0</td>\n",
       "      <td>0.0</td>\n",
       "      <td>0.0</td>\n",
       "      <td>0.0</td>\n",
       "    </tr>\n",
       "    <tr>\n",
       "      <th>952</th>\n",
       "      <td>Agua mineral, mineralización debil</td>\n",
       "      <td>Mineral water</td>\n",
       "      <td>0</td>\n",
       "      <td>0.0</td>\n",
       "      <td>0.0</td>\n",
       "      <td>0.0</td>\n",
       "    </tr>\n",
       "  </tbody>\n",
       "</table>\n",
       "<p>953 rows × 6 columns</p>\n",
       "</div>"
      ],
      "text/plain": [
       "                                                Nombre  \\\n",
       "0                                      Aceite de colza   \n",
       "1                         Aceite de oliva virgen extra   \n",
       "2                                       Aceite de coco   \n",
       "3    Aceite de oliva virgen extra, producción ecolo...   \n",
       "4                                      Aceite de palma   \n",
       "..                                                 ...   \n",
       "948                                           Infusión   \n",
       "949                                               Soda   \n",
       "950                            Refresco \"tipo gaseosa\"   \n",
       "951                                     Agua de la red   \n",
       "952                 Agua mineral, mineralización debil   \n",
       "\n",
       "                                Name Energia(kcal)  Grasas  Proteina  \\\n",
       "0                           Rape oil           888   100.0       0.0   \n",
       "1             Extra virgin olive oil           888   100.0       0.0   \n",
       "2                        Coconut oil           888   100.0       0.0   \n",
       "3    Extra virgin olive oil, organic           888   100.0       0.0   \n",
       "4                           Palm oil           888   100.0       0.0   \n",
       "..                               ...           ...     ...       ...   \n",
       "948                         Infusion             0     0.0       0.0   \n",
       "949                             Soda             0     0.0       0.0   \n",
       "950            Soft drink, soda type             0     0.0       0.0   \n",
       "951                        Tap water             0     0.0       0.0   \n",
       "952                    Mineral water             0     0.0       0.0   \n",
       "\n",
       "     Carbohidratos  \n",
       "0              0.0  \n",
       "1              0.0  \n",
       "2              0.0  \n",
       "3              0.0  \n",
       "4              0.0  \n",
       "..             ...  \n",
       "948            0.0  \n",
       "949            0.0  \n",
       "950            0.0  \n",
       "951            0.0  \n",
       "952            0.0  \n",
       "\n",
       "[953 rows x 6 columns]"
      ]
     },
     "execution_count": 394,
     "metadata": {},
     "output_type": "execute_result"
    }
   ],
   "source": [
    "df"
   ]
  },
  {
   "cell_type": "code",
   "execution_count": 395,
   "metadata": {},
   "outputs": [],
   "source": [
    "df = df[[\"Nombre\", \"Name\", \"Energia(kcal)\", \"Grasas\", \"Proteina\", \"Carbohidratos\"]]"
   ]
  },
  {
   "cell_type": "code",
   "execution_count": 396,
   "metadata": {},
   "outputs": [],
   "source": [
    "df[\"Energia(kcal)\"] = df[\"Energia(kcal)\"].replace(\"\", 0)\n",
    "df[\"Grasas\"] = df[\"Grasas\"].replace(\"\", 0)\n",
    "df[\"Proteina\"] = df[\"Proteina\"].replace(\"\", 0)\n",
    "df[\"Carbohidratos\"] = df[\"Carbohidratos\"].replace(\"\", 0)"
   ]
  },
  {
   "cell_type": "code",
   "execution_count": 397,
   "metadata": {},
   "outputs": [],
   "source": [
    "df[\"Energia(kcal)\"] = df[\"Energia(kcal)\"].astype(float)\n",
    "df[\"Grasas\"] = df[\"Grasas\"].astype(float)\n",
    "df[\"Proteina\"] = df[\"Proteina\"].astype(float)\n",
    "df[\"Carbohidratos\"] = df[\"Carbohidratos\"].astype(float)"
   ]
  },
  {
   "cell_type": "code",
   "execution_count": 398,
   "metadata": {},
   "outputs": [
    {
     "data": {
      "text/plain": [
       "Nombre            object\n",
       "Name              object\n",
       "Energia(kcal)    float64\n",
       "Grasas           float64\n",
       "Proteina         float64\n",
       "Carbohidratos    float64\n",
       "dtype: object"
      ]
     },
     "execution_count": 398,
     "metadata": {},
     "output_type": "execute_result"
    }
   ],
   "source": [
    "df.dtypes"
   ]
  },
  {
   "cell_type": "code",
   "execution_count": 22,
   "metadata": {},
   "outputs": [],
   "source": [
    "import unicodedata"
   ]
  },
  {
   "cell_type": "code",
   "execution_count": 24,
   "metadata": {},
   "outputs": [],
   "source": [
    "accented_string = u'Málaga'\n",
    "# accented_string is of type 'unicode'\n",
    "unaccented_string = normalize('NFD',accented_string)"
   ]
  },
  {
   "cell_type": "code",
   "execution_count": 46,
   "metadata": {},
   "outputs": [
    {
     "data": {
      "text/plain": [
       "b'Ma\\xcc\\x81laga'"
      ]
     },
     "execution_count": 46,
     "metadata": {},
     "output_type": "execute_result"
    }
   ],
   "source": [
    "s = unicodedata.normalize('NFKD', accented_string).encode('ASCII', 'ignore')\n",
    "unicodedata.normalize('NFKD', accented_string).encode(errors='strict')"
   ]
  },
  {
   "cell_type": "code",
   "execution_count": 49,
   "metadata": {},
   "outputs": [
    {
     "data": {
      "text/plain": [
       "b'Malaga'"
      ]
     },
     "execution_count": 49,
     "metadata": {},
     "output_type": "execute_result"
    }
   ],
   "source": [
    "s"
   ]
  },
  {
   "cell_type": "code",
   "execution_count": 27,
   "metadata": {},
   "outputs": [
    {
     "data": {
      "text/plain": [
       "b'Malaga'"
      ]
     },
     "execution_count": 27,
     "metadata": {},
     "output_type": "execute_result"
    }
   ],
   "source": [
    "s"
   ]
  },
  {
   "cell_type": "code",
   "execution_count": 399,
   "metadata": {},
   "outputs": [],
   "source": [
    "df.to_csv('data/informacion_alimentos.csv', index=False)"
   ]
  },
  {
   "cell_type": "code",
   "execution_count": 400,
   "metadata": {},
   "outputs": [],
   "source": [
    "df.to_json(\"data/informacion_alimentos.json\", orient=\"records\")"
   ]
  }
 ],
 "metadata": {
  "kernelspec": {
   "display_name": "Python 3",
   "language": "python",
   "name": "python3"
  },
  "language_info": {
   "codemirror_mode": {
    "name": "ipython",
    "version": 3
   },
   "file_extension": ".py",
   "mimetype": "text/x-python",
   "name": "python",
   "nbconvert_exporter": "python",
   "pygments_lexer": "ipython3",
   "version": "3.8.8"
  },
  "toc": {
   "base_numbering": 1,
   "nav_menu": {},
   "number_sections": true,
   "sideBar": false,
   "skip_h1_title": true,
   "title_cell": "Table of Contents",
   "title_sidebar": "Contents",
   "toc_cell": true,
   "toc_position": {
    "height": "629.19px",
    "left": "31px",
    "top": "110.8px",
    "width": "213.026px"
   },
   "toc_section_display": true,
   "toc_window_display": false
  },
  "varInspector": {
   "cols": {
    "lenName": 16,
    "lenType": 16,
    "lenVar": 40
   },
   "kernels_config": {
    "python": {
     "delete_cmd_postfix": "",
     "delete_cmd_prefix": "del ",
     "library": "var_list.py",
     "varRefreshCmd": "print(var_dic_list())"
    },
    "r": {
     "delete_cmd_postfix": ") ",
     "delete_cmd_prefix": "rm(",
     "library": "var_list.r",
     "varRefreshCmd": "cat(var_dic_list()) "
    }
   },
   "types_to_exclude": [
    "module",
    "function",
    "builtin_function_or_method",
    "instance",
    "_Feature"
   ],
   "window_display": false
  }
 },
 "nbformat": 4,
 "nbformat_minor": 4
}
